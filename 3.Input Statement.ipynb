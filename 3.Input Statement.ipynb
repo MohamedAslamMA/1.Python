{
 "cells": [
  {
   "cell_type": "code",
   "execution_count": 1,
   "id": "f568802f",
   "metadata": {},
   "outputs": [
    {
     "name": "stdout",
     "output_type": "stream",
     "text": [
      "Enter the Shirt Price Rs.:100\n"
     ]
    }
   ],
   "source": [
    "Shirt=int(input(\"Enter the Shirt Price Rs.:\"))"
   ]
  },
  {
   "cell_type": "code",
   "execution_count": 2,
   "id": "5c44968b",
   "metadata": {},
   "outputs": [
    {
     "name": "stdout",
     "output_type": "stream",
     "text": [
      "Enter the Pant Price Rs.:150\n"
     ]
    }
   ],
   "source": [
    "Pant=int(input(\"Enter the Pant Price Rs.:\"))"
   ]
  },
  {
   "cell_type": "code",
   "execution_count": 3,
   "id": "f5d61df7",
   "metadata": {},
   "outputs": [],
   "source": [
    "add=Shirt+Pant"
   ]
  },
  {
   "cell_type": "code",
   "execution_count": 6,
   "id": "4fb43a1c",
   "metadata": {},
   "outputs": [
    {
     "name": "stdout",
     "output_type": "stream",
     "text": [
      "Total Clothing Cost is Rs. 250\n"
     ]
    }
   ],
   "source": [
    "print(\"Total Clothing Cost is Rs.\",add)"
   ]
  },
  {
   "cell_type": "code",
   "execution_count": null,
   "id": "bb371f86",
   "metadata": {},
   "outputs": [],
   "source": []
  },
  {
   "cell_type": "code",
   "execution_count": null,
   "id": "c3f670e2",
   "metadata": {},
   "outputs": [],
   "source": []
  },
  {
   "cell_type": "code",
   "execution_count": null,
   "id": "bd076f24",
   "metadata": {},
   "outputs": [],
   "source": []
  }
 ],
 "metadata": {
  "kernelspec": {
   "display_name": "Python 3 (ipykernel)",
   "language": "python",
   "name": "python3"
  },
  "language_info": {
   "codemirror_mode": {
    "name": "ipython",
    "version": 3
   },
   "file_extension": ".py",
   "mimetype": "text/x-python",
   "name": "python",
   "nbconvert_exporter": "python",
   "pygments_lexer": "ipython3",
   "version": "3.11.5"
  }
 },
 "nbformat": 4,
 "nbformat_minor": 5
}
