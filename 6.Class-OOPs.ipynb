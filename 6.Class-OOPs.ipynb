{
 "cells": [
  {
   "cell_type": "code",
   "execution_count": 18,
   "id": "ae3d6edf",
   "metadata": {
    "scrolled": false
   },
   "outputs": [],
   "source": [
    "#if statement"
   ]
  },
  {
   "cell_type": "code",
   "execution_count": 2,
   "id": "61b886eb",
   "metadata": {},
   "outputs": [
    {
     "name": "stdout",
     "output_type": "stream",
     "text": [
      "Enter the Age:30\n"
     ]
    }
   ],
   "source": [
    "age=int(input(\"Enter the Age:\"))"
   ]
  },
  {
   "cell_type": "code",
   "execution_count": 3,
   "id": "c1e95520",
   "metadata": {
    "scrolled": false
   },
   "outputs": [
    {
     "name": "stdout",
     "output_type": "stream",
     "text": [
      "Matured Person\n",
      "Immatured Person\n"
     ]
    }
   ],
   "source": [
    "if(age==30):\n",
    "    print(\"Matured Person\")\n",
    "if(age<=30):\n",
    "    print(\"Immatured Person\")"
   ]
  },
  {
   "cell_type": "code",
   "execution_count": null,
   "id": "6b9bb8c3",
   "metadata": {},
   "outputs": [],
   "source": [
    "#if else"
   ]
  },
  {
   "cell_type": "code",
   "execution_count": 4,
   "id": "32dcec93",
   "metadata": {
    "scrolled": false
   },
   "outputs": [
    {
     "name": "stdout",
     "output_type": "stream",
     "text": [
      "Enter the Age:28\n"
     ]
    }
   ],
   "source": [
    "age=int(input(\"Enter the Age:\"))"
   ]
  },
  {
   "cell_type": "code",
   "execution_count": 3,
   "id": "df33a69f",
   "metadata": {},
   "outputs": [
    {
     "name": "stdout",
     "output_type": "stream",
     "text": [
      "Immatured Person\n"
     ]
    }
   ],
   "source": [
    "if(age>=30):\n",
    "    print(\"Matured Person\")\n",
    "else:\n",
    "    print(\"Immatured Person\")"
   ]
  },
  {
   "cell_type": "code",
   "execution_count": 23,
   "id": "256064e3",
   "metadata": {},
   "outputs": [
    {
     "name": "stdout",
     "output_type": "stream",
     "text": [
      "Enter the Age:29\n"
     ]
    }
   ],
   "source": [
    "age=int(input(\"Enter the Age:\"))"
   ]
  },
  {
   "cell_type": "code",
   "execution_count": 5,
   "id": "c2ea729e",
   "metadata": {},
   "outputs": [
    {
     "name": "stdout",
     "output_type": "stream",
     "text": [
      "Immatured Person\n"
     ]
    }
   ],
   "source": [
    "if(age>=30):\n",
    "    print(\"Matured Person\")\n",
    "else:\n",
    "    print(\"Immatured Person\")"
   ]
  },
  {
   "cell_type": "code",
   "execution_count": 26,
   "id": "3e32976a",
   "metadata": {},
   "outputs": [],
   "source": [
    "#if elif"
   ]
  },
  {
   "cell_type": "markdown",
   "id": "9c2d124d",
   "metadata": {},
   "source": [
    "age<3-->New Born\n",
    "age<6-->Infant\n",
    "age<12-->Toddler\n",
    "age<36-->Kids"
   ]
  },
  {
   "cell_type": "code",
   "execution_count": 6,
   "id": "bf44b19e",
   "metadata": {},
   "outputs": [
    {
     "name": "stdout",
     "output_type": "stream",
     "text": [
      "Enter the age (Month):11\n"
     ]
    }
   ],
   "source": [
    "age=int(input(\"Enter the age (Month):\"))"
   ]
  },
  {
   "cell_type": "code",
   "execution_count": 7,
   "id": "1588b3b7",
   "metadata": {
    "scrolled": true
   },
   "outputs": [
    {
     "name": "stdout",
     "output_type": "stream",
     "text": [
      "Toddler\n"
     ]
    }
   ],
   "source": [
    "if(age<=3):\n",
    "    print(\"New Born\")\n",
    "elif(age<=6):\n",
    "    print(\"Infant\")\n",
    "elif(age<=12):\n",
    "    print(\"Toddler\")\n",
    "elif(age<=36):\n",
    "    print(\"Kids\")\n",
    "else:\n",
    "    print(\"Children\")"
   ]
  },
  {
   "cell_type": "code",
   "execution_count": null,
   "id": "04269416",
   "metadata": {},
   "outputs": [],
   "source": [
    "#for loop"
   ]
  },
  {
   "cell_type": "markdown",
   "id": "537eb952",
   "metadata": {},
   "source": [
    "example: lists=[5,13,25,40]\n",
    "for temp in lists:\n",
    "    print(temp)"
   ]
  },
  {
   "cell_type": "code",
   "execution_count": 8,
   "id": "c60d1c13",
   "metadata": {},
   "outputs": [],
   "source": [
    "lists=[3,12,13,40]"
   ]
  },
  {
   "cell_type": "code",
   "execution_count": 9,
   "id": "fcc23e87",
   "metadata": {
    "scrolled": false
   },
   "outputs": [
    {
     "name": "stdout",
     "output_type": "stream",
     "text": [
      "New Born\n",
      "Toddler\n",
      "Kids\n",
      "Children\n"
     ]
    }
   ],
   "source": [
    "for age in lists:\n",
    "    if(age<=3):\n",
    "        print(\"New Born\")\n",
    "    elif(age<=6):\n",
    "        print(\"Infant\")\n",
    "    elif(age<=12):\n",
    "        print(\"Toddler\")\n",
    "    elif(age<=36):\n",
    "        print(\"Kids\")\n",
    "    else:\n",
    "        print(\"Children\")"
   ]
  },
  {
   "cell_type": "code",
   "execution_count": 10,
   "id": "fb8a6722",
   "metadata": {
    "scrolled": true
   },
   "outputs": [
    {
     "name": "stdout",
     "output_type": "stream",
     "text": [
      "Enter the number:9\n",
      "even number\n"
     ]
    }
   ],
   "source": [
    "num=int(input(\"Enter the number:\"))\n",
    "if((num%10)==1):\n",
    "    print(\"odd number\")\n",
    "else:\n",
    "    print(\"even number\")"
   ]
  },
  {
   "cell_type": "code",
   "execution_count": 11,
   "id": "b796c62c",
   "metadata": {},
   "outputs": [],
   "source": [
    "lists=[3,12,13,40]"
   ]
  },
  {
   "cell_type": "code",
   "execution_count": 12,
   "id": "22afbb6e",
   "metadata": {},
   "outputs": [],
   "source": [
    "def AgeGroup():\n",
    "    for age in lists:\n",
    "        if(age<=3):\n",
    "            print(\"New Born\")\n",
    "        elif(age<=6):\n",
    "            print(\"Infant\")\n",
    "        elif(age<=12):\n",
    "            print(\"Toddler\")\n",
    "        elif(age<=36):\n",
    "            print(\"Kids\")\n",
    "        else:\n",
    "            print(\"Children\")"
   ]
  },
  {
   "cell_type": "code",
   "execution_count": 13,
   "id": "894e2144",
   "metadata": {},
   "outputs": [
    {
     "name": "stdout",
     "output_type": "stream",
     "text": [
      "New Born\n",
      "Toddler\n",
      "Kids\n",
      "Children\n"
     ]
    }
   ],
   "source": [
    "AgeGroup()"
   ]
  },
  {
   "cell_type": "code",
   "execution_count": 14,
   "id": "e8facfca",
   "metadata": {},
   "outputs": [],
   "source": [
    "#OOPs Function - 1\n",
    "def AgeGroup():\n",
    "        if(age<=3):\n",
    "            print(\"New Born\")\n",
    "            group=\"New Born\"\n",
    "        elif(age<=6):\n",
    "            print(\"Infant\")\n",
    "            group=\"Infant\"\n",
    "        elif(age<=12):\n",
    "            print(\"Toddler\")\n",
    "            group=\"Toddler\"\n",
    "        elif(age<=36):\n",
    "            print(\"Kids\")\n",
    "            group=\"Kids\"\n",
    "        else:\n",
    "            print(\"Children\")\n",
    "            group=\"Children\""
   ]
  },
  {
   "cell_type": "code",
   "execution_count": 15,
   "id": "746c6db6",
   "metadata": {},
   "outputs": [
    {
     "name": "stdout",
     "output_type": "stream",
     "text": [
      "Enter the Age:5\n",
      "Infant\n"
     ]
    }
   ],
   "source": [
    "age=int(input(\"Enter the Age:\"))\n",
    "agegroup=AgeGroup()"
   ]
  },
  {
   "cell_type": "code",
   "execution_count": 19,
   "id": "cc3f6821",
   "metadata": {},
   "outputs": [],
   "source": [
    "#OOPs Function with return statement - 2\n",
    "def AgeGroup():\n",
    "        if(age<=3):\n",
    "            print(\"New Born\")\n",
    "            group=\"New Born\"\n",
    "        elif(age<=6):\n",
    "            print(\"Infant\")\n",
    "            group=\"Infant\"\n",
    "        elif(age<=12):\n",
    "            print(\"Toddler\")\n",
    "            group=\"Toddler\"\n",
    "        elif(age<=36):\n",
    "            print(\"Kids\")\n",
    "            group=\"Kids\"\n",
    "        else:\n",
    "            print(\"Children\")\n",
    "            group=\"Children\""
   ]
  },
  {
   "cell_type": "code",
   "execution_count": 20,
   "id": "847ce80e",
   "metadata": {},
   "outputs": [
    {
     "name": "stdout",
     "output_type": "stream",
     "text": [
      "Enter the Age:24\n",
      "Kids\n"
     ]
    }
   ],
   "source": [
    "age=int(input(\"Enter the Age:\"))\n",
    "AgeGroup()"
   ]
  },
  {
   "cell_type": "code",
   "execution_count": 21,
   "id": "6c32ba11",
   "metadata": {},
   "outputs": [],
   "source": [
    "#OOPs Function without return statement - 3\n",
    "def AgeGroup():\n",
    "        if(age<=3):\n",
    "            print(\"New Born\")\n",
    "            group=\"New Born\"\n",
    "        elif(age<=6):\n",
    "            print(\"Infant\")\n",
    "            group=\"Infant\"\n",
    "        elif(age<=12):\n",
    "            print(\"Toddler\")\n",
    "            group=\"Toddler\"\n",
    "        elif(age<=36):\n",
    "            print(\"Kids\")\n",
    "            group=\"Kids\"\n",
    "        else:\n",
    "            print(\"Children\")\n",
    "            group=\"Children\""
   ]
  },
  {
   "cell_type": "code",
   "execution_count": 33,
   "id": "df2587f7",
   "metadata": {},
   "outputs": [
    {
     "name": "stdout",
     "output_type": "stream",
     "text": [
      "Enter the Age:3\n",
      "New Born\n"
     ]
    }
   ],
   "source": [
    "age=int(input(\"Enter the Age:\"))\n",
    "AgeGroup()"
   ]
  },
  {
   "cell_type": "code",
   "execution_count": 7,
   "id": "9e90fd06",
   "metadata": {},
   "outputs": [
    {
     "name": "stdout",
     "output_type": "stream",
     "text": [
      "Enter the number:1\n",
      "odd number\n"
     ]
    }
   ],
   "source": [
    "def OddNumber():\n",
    "    num=int(input(\"Enter the number:\"))\n",
    "    if((num%10)==1):\n",
    "        print(\"odd number\")\n",
    "        message=\"odd number\"\n",
    "    else:\n",
    "        print(\"even number\")\n",
    "        message=\"even number\"\n",
    "    return message\n",
    "message=OddNumber()"
   ]
  },
  {
   "cell_type": "code",
   "execution_count": 8,
   "id": "1598a851",
   "metadata": {},
   "outputs": [
    {
     "name": "stdout",
     "output_type": "stream",
     "text": [
      "The Given number is odd\n"
     ]
    }
   ],
   "source": [
    "if(message==\"Even Number\"):\n",
    "    print('The Given number is Even')\n",
    "else:\n",
    "    print(\"The Given number is odd\")"
   ]
  },
  {
   "cell_type": "code",
   "execution_count": 9,
   "id": "1a6e55b4",
   "metadata": {},
   "outputs": [],
   "source": [
    "def OddNumber():\n",
    "    num=int(input(\"Enter the number:\"))\n",
    "    if((num%2)==1):\n",
    "        print(\"odd number\")\n",
    "        message=\"odd number\"\n",
    "    else:\n",
    "        print(\"even number\")\n",
    "        message=\"even number\"\n",
    "    if(message==\"even number\"):\n",
    "        print('The Given number is Even')\n",
    "    else:\n",
    "        print(\"The Given number is odd\")"
   ]
  },
  {
   "cell_type": "code",
   "execution_count": 10,
   "id": "29217b84",
   "metadata": {},
   "outputs": [
    {
     "name": "stdout",
     "output_type": "stream",
     "text": [
      "Enter the number:12\n",
      "even number\n",
      "The Given number is Even\n"
     ]
    }
   ],
   "source": [
    "OddNumber()"
   ]
  },
  {
   "cell_type": "code",
   "execution_count": 30,
   "id": "89758fbb",
   "metadata": {},
   "outputs": [
    {
     "name": "stdout",
     "output_type": "stream",
     "text": [
      "Enter the number:2\n",
      "even number\n",
      "The Given number is Even\n",
      "Enter the Age:3\n",
      "New Born\n"
     ]
    }
   ],
   "source": [
    "#Class OOPS\n",
    "class multifunction():\n",
    "    def AgeGroup():\n",
    "        age=int(input(\"Enter the Age:\"))\n",
    "        if(age<=3):\n",
    "            print(\"New Born\")\n",
    "            group=\"New Born\"\n",
    "        elif(age<=6):\n",
    "            print(\"Infant\")\n",
    "            group=\"Infant\"\n",
    "        elif(age<=12):\n",
    "            print(\"Toddler\")\n",
    "            group=\"Toddler\"\n",
    "        elif(age<=36):\n",
    "            print(\"Kids\")\n",
    "            group=\"Kids\"\n",
    "        else:\n",
    "            print(\"Children\")\n",
    "            group=\"Children\"\n",
    "    def OddNumber():\n",
    "        num=int(input(\"Enter the number:\"))\n",
    "        if((num%10)==1):\n",
    "            print(\"odd number\")\n",
    "            message=\"odd number\"\n",
    "        else:\n",
    "            print(\"even number\")\n",
    "            message=\"even number\"\n",
    "        return message\n",
    "message=OddNumber()\n",
    "multifunction.AgeGroup()"
   ]
  },
  {
   "cell_type": "code",
   "execution_count": null,
   "id": "9a293efb",
   "metadata": {},
   "outputs": [],
   "source": []
  }
 ],
 "metadata": {
  "kernelspec": {
   "display_name": "Python 3 (ipykernel)",
   "language": "python",
   "name": "python3"
  },
  "language_info": {
   "codemirror_mode": {
    "name": "ipython",
    "version": 3
   },
   "file_extension": ".py",
   "mimetype": "text/x-python",
   "name": "python",
   "nbconvert_exporter": "python",
   "pygments_lexer": "ipython3",
   "version": "3.11.5"
  }
 },
 "nbformat": 4,
 "nbformat_minor": 5
}
