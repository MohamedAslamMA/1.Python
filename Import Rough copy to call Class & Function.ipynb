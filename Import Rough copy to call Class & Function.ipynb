{
 "cells": [
  {
   "cell_type": "code",
   "execution_count": 6,
   "id": "73a84272",
   "metadata": {},
   "outputs": [],
   "source": [
    "from multiFunction import multifunction\n",
    "#from FileName import ClassName"
   ]
  },
  {
   "cell_type": "code",
   "execution_count": 9,
   "id": "dc8ea105",
   "metadata": {},
   "outputs": [
    {
     "name": "stdout",
     "output_type": "stream",
     "text": [
      "Enter the Age:3\n",
      "New Born\n"
     ]
    }
   ],
   "source": [
    "multifunction.AgeGroup()"
   ]
  },
  {
   "cell_type": "code",
   "execution_count": 10,
   "id": "bad73e1d",
   "metadata": {},
   "outputs": [
    {
     "name": "stdout",
     "output_type": "stream",
     "text": [
      "Enter the number:1\n",
      "odd number\n"
     ]
    },
    {
     "data": {
      "text/plain": [
       "'odd number'"
      ]
     },
     "execution_count": 10,
     "metadata": {},
     "output_type": "execute_result"
    }
   ],
   "source": [
    "multifunction.OddNumber()"
   ]
  }
 ],
 "metadata": {
  "kernelspec": {
   "display_name": "Python 3 (ipykernel)",
   "language": "python",
   "name": "python3"
  },
  "language_info": {
   "codemirror_mode": {
    "name": "ipython",
    "version": 3
   },
   "file_extension": ".py",
   "mimetype": "text/x-python",
   "name": "python",
   "nbconvert_exporter": "python",
   "pygments_lexer": "ipython3",
   "version": "3.11.5"
  }
 },
 "nbformat": 4,
 "nbformat_minor": 5
}
