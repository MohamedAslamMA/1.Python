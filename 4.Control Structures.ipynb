{
 "cells": [
  {
   "cell_type": "code",
   "execution_count": 18,
   "id": "ae3d6edf",
   "metadata": {
    "scrolled": false
   },
   "outputs": [],
   "source": [
    "#if statement"
   ]
  },
  {
   "cell_type": "code",
   "execution_count": 17,
   "id": "61b886eb",
   "metadata": {},
   "outputs": [
    {
     "name": "stdout",
     "output_type": "stream",
     "text": [
      "Enter the Age:30\n"
     ]
    }
   ],
   "source": [
    "age=int(input(\"Enter the Age:\"))"
   ]
  },
  {
   "cell_type": "code",
   "execution_count": 19,
   "id": "c1e95520",
   "metadata": {
    "scrolled": false
   },
   "outputs": [
    {
     "name": "stdout",
     "output_type": "stream",
     "text": [
      "Matured Person\n",
      "Immatured Person\n"
     ]
    }
   ],
   "source": [
    "if(age==30):\n",
    "    print(\"Matured Person\")\n",
    "if(age<=30):\n",
    "    print(\"Immatured Person\")"
   ]
  },
  {
   "cell_type": "code",
   "execution_count": null,
   "id": "6b9bb8c3",
   "metadata": {},
   "outputs": [],
   "source": [
    "#if else"
   ]
  },
  {
   "cell_type": "code",
   "execution_count": 2,
   "id": "32dcec93",
   "metadata": {
    "scrolled": false
   },
   "outputs": [
    {
     "name": "stdout",
     "output_type": "stream",
     "text": [
      "Enter the Age:28\n"
     ]
    }
   ],
   "source": [
    "age=int(input(\"Enter the Age:\"))"
   ]
  },
  {
   "cell_type": "code",
   "execution_count": 3,
   "id": "df33a69f",
   "metadata": {},
   "outputs": [
    {
     "name": "stdout",
     "output_type": "stream",
     "text": [
      "Immatured Person\n"
     ]
    }
   ],
   "source": [
    "if(age>=30):\n",
    "    print(\"Matured Person\")\n",
    "else:\n",
    "    print(\"Immatured Person\")"
   ]
  },
  {
   "cell_type": "code",
   "execution_count": 23,
   "id": "256064e3",
   "metadata": {},
   "outputs": [
    {
     "name": "stdout",
     "output_type": "stream",
     "text": [
      "Enter the Age:29\n"
     ]
    }
   ],
   "source": [
    "age=int(input(\"Enter the Age:\"))"
   ]
  },
  {
   "cell_type": "code",
   "execution_count": 25,
   "id": "c2ea729e",
   "metadata": {},
   "outputs": [
    {
     "name": "stdout",
     "output_type": "stream",
     "text": [
      "Immatured Person\n"
     ]
    }
   ],
   "source": [
    "if(age>=30):\n",
    "    print(\"Matured Person\")\n",
    "else:\n",
    "    print(\"Immatured Person\")"
   ]
  },
  {
   "cell_type": "code",
   "execution_count": 26,
   "id": "3e32976a",
   "metadata": {},
   "outputs": [],
   "source": [
    "#if elif"
   ]
  },
  {
   "cell_type": "markdown",
   "id": "9c2d124d",
   "metadata": {},
   "source": [
    "age<3-->New Born\n",
    "age<6-->Infant\n",
    "age<12-->Toddler\n",
    "age<36-->Kids"
   ]
  },
  {
   "cell_type": "code",
   "execution_count": 5,
   "id": "bf44b19e",
   "metadata": {},
   "outputs": [
    {
     "name": "stdout",
     "output_type": "stream",
     "text": [
      "Enter the age (Month):11\n"
     ]
    }
   ],
   "source": [
    "age=int(input(\"Enter the age (Month):\"))"
   ]
  },
  {
   "cell_type": "code",
   "execution_count": 14,
   "id": "1588b3b7",
   "metadata": {
    "scrolled": true
   },
   "outputs": [
    {
     "name": "stdout",
     "output_type": "stream",
     "text": [
      "Toddler\n"
     ]
    }
   ],
   "source": [
    "if(age<=3):\n",
    "    print(\"New Born\")\n",
    "elif(age<=6):\n",
    "    print(\"Infant\")\n",
    "elif(age<=12):\n",
    "    print(\"Toddler\")\n",
    "elif(age<=36):\n",
    "    print(\"Kids\")\n",
    "else:\n",
    "    print(\"Children\")"
   ]
  },
  {
   "cell_type": "code",
   "execution_count": null,
   "id": "04269416",
   "metadata": {},
   "outputs": [],
   "source": [
    "#for loop"
   ]
  },
  {
   "cell_type": "markdown",
   "id": "537eb952",
   "metadata": {},
   "source": [
    "example: lists=[5,13,25,40]\n",
    "for temp in lists:\n",
    "    print(temp)"
   ]
  },
  {
   "cell_type": "code",
   "execution_count": 4,
   "id": "c60d1c13",
   "metadata": {},
   "outputs": [],
   "source": [
    "lists=[3,12,13,40]"
   ]
  },
  {
   "cell_type": "code",
   "execution_count": 5,
   "id": "fcc23e87",
   "metadata": {
    "scrolled": false
   },
   "outputs": [
    {
     "name": "stdout",
     "output_type": "stream",
     "text": [
      "New Born\n",
      "Toddler\n",
      "Kids\n",
      "Children\n"
     ]
    }
   ],
   "source": [
    "for age in lists:\n",
    "    if(age<=3):\n",
    "        print(\"New Born\")\n",
    "    elif(age<=6):\n",
    "        print(\"Infant\")\n",
    "    elif(age<=12):\n",
    "        print(\"Toddler\")\n",
    "    elif(age<=36):\n",
    "        print(\"Kids\")\n",
    "    else:\n",
    "        print(\"Children\")"
   ]
  },
  {
   "cell_type": "code",
   "execution_count": 6,
   "id": "fb8a6722",
   "metadata": {
    "scrolled": true
   },
   "outputs": [
    {
     "name": "stdout",
     "output_type": "stream",
     "text": [
      "Enter the number:9\n",
      "even number\n"
     ]
    }
   ],
   "source": [
    "num=int(input(\"Enter the number:\"))\n",
    "if((num%10)==1):\n",
    "    print(\"odd number\")\n",
    "else:\n",
    "    print(\"even number\")"
   ]
  }
 ],
 "metadata": {
  "kernelspec": {
   "display_name": "Python 3 (ipykernel)",
   "language": "python",
   "name": "python3"
  },
  "language_info": {
   "codemirror_mode": {
    "name": "ipython",
    "version": 3
   },
   "file_extension": ".py",
   "mimetype": "text/x-python",
   "name": "python",
   "nbconvert_exporter": "python",
   "pygments_lexer": "ipython3",
   "version": "3.11.5"
  }
 },
 "nbformat": 4,
 "nbformat_minor": 5
}
