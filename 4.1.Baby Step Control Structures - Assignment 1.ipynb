{
 "cells": [
  {
   "cell_type": "code",
   "execution_count": 1,
   "id": "ab4433e9",
   "metadata": {},
   "outputs": [
    {
     "name": "stdout",
     "output_type": "stream",
     "text": [
      "Welcome to Assignment-1\n"
     ]
    }
   ],
   "source": [
    "print(\"Welcome to Assignment-1\")"
   ]
  },
  {
   "cell_type": "code",
   "execution_count": 2,
   "id": "5fe18aff",
   "metadata": {},
   "outputs": [
    {
     "name": "stdout",
     "output_type": "stream",
     "text": [
      "Num1=  10\n",
      "Num2=  30\n",
      "Add=  40\n"
     ]
    }
   ],
   "source": [
    "num1=10\n",
    "num2=30\n",
    "print(\"Num1= \",num1)\n",
    "print(\"Num2= \",num2)\n",
    "print(\"Add= \",num1+num2)"
   ]
  },
  {
   "cell_type": "code",
   "execution_count": 3,
   "id": "69f69765",
   "metadata": {},
   "outputs": [
    {
     "name": "stdout",
     "output_type": "stream",
     "text": [
      "Enter the BMI Index:34\n",
      "Very overweight\n"
     ]
    }
   ],
   "source": [
    "#Body Mass Index\n",
    "BMI=int(input(\"Enter the BMI Index:\"))\n",
    "if(BMI<10):\n",
    "    print(\"Very Less Weight\")\n",
    "elif(BMI<18):\n",
    "    print(\"Under Weight\")\n",
    "elif(BMI<25):\n",
    "    print(\"Normal\")\n",
    "elif(BMI<33):\n",
    "    print(\"Overweight\")\n",
    "else:\n",
    "    print(\"Very overweight\")"
   ]
  },
  {
   "cell_type": "code",
   "execution_count": null,
   "id": "a7952883",
   "metadata": {},
   "outputs": [],
   "source": []
  }
 ],
 "metadata": {
  "kernelspec": {
   "display_name": "Python 3 (ipykernel)",
   "language": "python",
   "name": "python3"
  },
  "language_info": {
   "codemirror_mode": {
    "name": "ipython",
    "version": 3
   },
   "file_extension": ".py",
   "mimetype": "text/x-python",
   "name": "python",
   "nbconvert_exporter": "python",
   "pygments_lexer": "ipython3",
   "version": "3.11.5"
  }
 },
 "nbformat": 4,
 "nbformat_minor": 5
}
