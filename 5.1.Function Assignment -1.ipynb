{
 "cells": [
  {
   "cell_type": "code",
   "execution_count": 1,
   "id": "619bf8ea",
   "metadata": {},
   "outputs": [
    {
     "name": "stdout",
     "output_type": "stream",
     "text": [
      "Sub-fields in AI are:\n",
      "Machine Learning\n",
      "Neural Networks\n",
      "Vision\n",
      "Robotics\n",
      "Speech Processing\n",
      "Natural Language Processing\n"
     ]
    }
   ],
   "source": [
    "# Create a class and function, and list out the items in the list\n",
    "\n",
    "class SubfieldsInAI():\n",
    "    def Subfields():\n",
    "        print(\"Sub-fields in AI are:\")\n",
    "        list=[\"Machine Learning\",\"Neural Networks\",\"Vision\",\"Robotics\",\"Speech Processing\",\"Natural Language Processing\"]\n",
    "        for temp in list:\n",
    "            print(temp)\n",
    "SubfieldsInAI.Subfields()"
   ]
  },
  {
   "cell_type": "code",
   "execution_count": 2,
   "id": "418111f2",
   "metadata": {},
   "outputs": [
    {
     "name": "stdout",
     "output_type": "stream",
     "text": [
      "Enter a Number:52452\n",
      "52452 is Even Number\n"
     ]
    }
   ],
   "source": [
    "# Create a function that checks whether the given number is Odd or Even\n",
    "\n",
    "class OddEven():\n",
    "    def OddEven():\n",
    "        num=int(input(\"Enter a Number:\"))\n",
    "        if((num%2)==1):\n",
    "            print(num,\"is Odd Number\")\n",
    "        else:\n",
    "            print(num,\"is Even Number\")\n",
    "OddEven.OddEven()"
   ]
  },
  {
   "cell_type": "code",
   "execution_count": 3,
   "id": "3fdaa476",
   "metadata": {},
   "outputs": [
    {
     "name": "stdout",
     "output_type": "stream",
     "text": [
      "Your Gender:Male\n",
      "Your Age:20\n",
      "Not Eligible\n"
     ]
    }
   ],
   "source": [
    "# Create a function that tells elegibility of marriage for male and female according to their age limit like 21 for male and 18 for female\n",
    "\n",
    "class ElegiblityForMarriage():\n",
    "    def Elegible():\n",
    "        sex=input(\"Your Gender:\")\n",
    "        age=int(input(\"Your Age:\"))\n",
    "        if(sex.lower()in(\"Female\",\"female\",\"F\",\"f\")):\n",
    "            if(age>=18):\n",
    "                print(\"Eligible\")\n",
    "            else:\n",
    "                print(\"Not Eligible\")\n",
    "        elif(sex.lower()in(\"Male\",\"male\",\"M\",\"m\")):\n",
    "            if(age>=21):\n",
    "                print(\"Eligible\")\n",
    "            else:\n",
    "                print(\"Not Eligible\")        \n",
    "ElegiblityForMarriage.Elegible()"
   ]
  },
  {
   "cell_type": "code",
   "execution_count": 4,
   "id": "ea814e7a",
   "metadata": {},
   "outputs": [
    {
     "name": "stdout",
     "output_type": "stream",
     "text": [
      "Tamil=98\n",
      "English=87\n",
      "Maths=95\n",
      "Science=95\n",
      "Social Science=93\n",
      "Total: 468\n",
      "Percentage: 93.60000000000001\n"
     ]
    }
   ],
   "source": [
    "# calculate the percentage of your 10th mark\n",
    "\n",
    "class FindPercent():\n",
    "    def percentage():\n",
    "        sub1=int(input(\"Tamil=\"))\n",
    "        sub2=int(input(\"English=\"))\n",
    "        sub3=int(input(\"Maths=\"))\n",
    "        sub4=int(input(\"Science=\"))\n",
    "        sub5=int(input(\"Social Science=\"))\n",
    "        subtotal=sub1+sub2+sub3+sub4+sub5\n",
    "        print(\"Total:\",subtotal)\n",
    "        per=subtotal/500*100\n",
    "        print(\"Percentage:\",per)\n",
    "        percentage=per\n",
    "FindPercent.percentage()"
   ]
  },
  {
   "cell_type": "code",
   "execution_count": 5,
   "id": "e5ba3e81",
   "metadata": {},
   "outputs": [
    {
     "name": "stdout",
     "output_type": "stream",
     "text": [
      "Height:32\n",
      "Breadth:34\n",
      "Area of Triangle: 544.0\n",
      "Height1:2\n",
      "Height2:4\n",
      "Breadth:4\n",
      "Perimeter of Triangle: 10\n"
     ]
    }
   ],
   "source": [
    "#print area and perimeter of triangle using class and functions\n",
    "\n",
    "class triangle():\n",
    "    def triangle():\n",
    "        height=int(input(\"Height:\"))\n",
    "        breadth=int(input(\"Breadth:\"))\n",
    "        area=(height*breadth)/2\n",
    "        print(\"Area of Triangle:\",area)\n",
    "        h1=int(input(\"Height1:\"))\n",
    "        h2=int(input(\"Height2:\"))\n",
    "        b=int(input(\"Breadth:\"))\n",
    "        peri=h1+h2+b\n",
    "        print(\"Perimeter of Triangle:\",peri)\n",
    "triangle.triangle()"
   ]
  }
 ],
 "metadata": {
  "kernelspec": {
   "display_name": "Python 3 (ipykernel)",
   "language": "python",
   "name": "python3"
  },
  "language_info": {
   "codemirror_mode": {
    "name": "ipython",
    "version": 3
   },
   "file_extension": ".py",
   "mimetype": "text/x-python",
   "name": "python",
   "nbconvert_exporter": "python",
   "pygments_lexer": "ipython3",
   "version": "3.11.5"
  }
 },
 "nbformat": 4,
 "nbformat_minor": 5
}
