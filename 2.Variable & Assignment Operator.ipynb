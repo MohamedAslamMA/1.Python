{
 "cells": [
  {
   "cell_type": "code",
   "execution_count": 3,
   "id": "96b29f94",
   "metadata": {},
   "outputs": [
    {
     "name": "stdout",
     "output_type": "stream",
     "text": [
      "Grand Total is\n",
      "115\n"
     ]
    }
   ],
   "source": [
    "NumberofSoap=15\n",
    "NumberofShampoo=100\n",
    "add=Soap+Shampoo\n",
    "print(\"Grand Total is\")\n",
    "print(add)"
   ]
  },
  {
   "cell_type": "code",
   "execution_count": 7,
   "id": "88a3b5df",
   "metadata": {},
   "outputs": [
    {
     "name": "stdout",
     "output_type": "stream",
     "text": [
      "Final Cost is\n",
      "20\n"
     ]
    }
   ],
   "source": [
    "NumberofShirt=100\n",
    "NumberofTShirt=80\n",
    "sub=Shirt-TShirt\n",
    "print(\"Final Cost is\")\n",
    "print(sub)"
   ]
  },
  {
   "cell_type": "code",
   "execution_count": 6,
   "id": "db8a9f15",
   "metadata": {},
   "outputs": [
    {
     "name": "stdout",
     "output_type": "stream",
     "text": [
      "Total Number of Apples are\n",
      "20.0\n"
     ]
    }
   ],
   "source": [
    "TotalcostofApples=100\n",
    "EachApplecost=5\n",
    "div=TotalcostofApples/EachApplecost\n",
    "print(\"Total Number of Apples are\")\n",
    "print(div)\n"
   ]
  },
  {
   "cell_type": "code",
   "execution_count": 15,
   "id": "f606e05b",
   "metadata": {},
   "outputs": [
    {
     "name": "stdout",
     "output_type": "stream",
     "text": [
      "Total Cost of Flowers Rs\n",
      "1000\n"
     ]
    }
   ],
   "source": [
    "costofOneFlower=10\n",
    "TotalnumberofFlowers=100\n",
    "mul=costofOneFlower*TotalnumberofFlowers\n",
    "print(\"Total Cost of Flowers Rs\")\n",
    "print(mul)"
   ]
  },
  {
   "cell_type": "code",
   "execution_count": 23,
   "id": "0fac05fa",
   "metadata": {},
   "outputs": [
    {
     "name": "stdout",
     "output_type": "stream",
     "text": [
      "Ravi is having 10Kgs of Apples and he Sold Out 3.8 Kgs on it and remaining amount of Apples is 6.2 Kgs\n"
     ]
    }
   ],
   "source": [
    "totalkgofApples=10\n",
    "soldApples=3.8\n",
    "print(\"Ravi is having 10Kgs of Apples\",\"and he Sold Out\",soldApples,\"Kgs on it and remaining amount of Apples is\",totalkgofApples-soldApples,\"Kgs\")"
   ]
  },
  {
   "cell_type": "code",
   "execution_count": null,
   "id": "1d587089",
   "metadata": {},
   "outputs": [],
   "source": []
  }
 ],
 "metadata": {
  "kernelspec": {
   "display_name": "Python 3 (ipykernel)",
   "language": "python",
   "name": "python3"
  },
  "language_info": {
   "codemirror_mode": {
    "name": "ipython",
    "version": 3
   },
   "file_extension": ".py",
   "mimetype": "text/x-python",
   "name": "python",
   "nbconvert_exporter": "python",
   "pygments_lexer": "ipython3",
   "version": "3.11.5"
  }
 },
 "nbformat": 4,
 "nbformat_minor": 5
}
